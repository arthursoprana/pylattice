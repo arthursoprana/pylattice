{
 "cells": [
  {
   "cell_type": "code",
   "execution_count": 1,
   "metadata": {
    "collapsed": false
   },
   "outputs": [],
   "source": [
    "import numpy as np\n",
    "import matplotlib.pyplot as plt\n",
    "from matplotlib import cm\n",
    "import numba\n",
    "import numexpr as ne\n",
    "\n",
    "###### Flow definition #########################################################\n",
    "#maxIter = 200000 # Total number of time iterations.\n",
    "maxIter = 200 # Total number of time iterations.\n",
    "Re      = 220.0  # Reynolds number.\n",
    "nx = 520; ny = 180; ly=ny-1.0; q = 9 # Lattice dimensions and populations.\n",
    "cx = nx/4; cy=ny/2; r=ny/9;          # Coordinates of the cylinder.\n",
    "uLB     = 0.04                       # Velocity in lattice units.\n",
    "nulb    = uLB*r/Re; omega = 1.0 / (3.0*nulb+0.5); # Relaxation parameter.\n",
    "\n",
    "###### Lattice Constants #######################################################\n",
    "c = np.array([(x,y) for x in [0,-1,1] for y in [0,-1,1]]) # Lattice velocities.\n",
    "t = 1.0/36.0 * np.ones(q)                                   # Lattice weights.\n",
    "\n",
    "t[np.asarray([np.linalg.norm(ci)<1.1 for ci in c])] = 1.0 / 9.0\n",
    "t[0] = 4.0 / 9.0\n",
    "\n",
    "noslip = [c.tolist().index((-c[i]).tolist()) for i in range(q)] \n",
    "i1 = np.arange(q)[np.asarray([ci[0]<0  for ci in c])] # Unknown on right wall.\n",
    "i2 = np.arange(q)[np.asarray([ci[0]==0 for ci in c])] # Vertical middle.\n",
    "i3 = np.arange(q)[np.asarray([ci[0]>0  for ci in c])] # Unknown on left wall.\n",
    "\n",
    "###### Function Definitions ####################################################\n",
    "sumpop = lambda fin: np.sum(fin,axis=0) # Helper function for density computation.\n",
    "\n",
    "def equilibrium(rho, u):              # Equilibrium distribution function.    \n",
    "    # Slow Original\n",
    "    #cu = 3.0 * dot(c, u.transpose(1,0,2))\n",
    "    \n",
    "    # No multi-thread\n",
    "    #cu = 3.0 * einsum('ij,jkl', c, u)\n",
    "    \n",
    "    # Multi-thread\n",
    "    cu = 3.0 * np.tensordot(c, u, axes=([1],[0]))    \n",
    "    \n",
    "    u0, u1 = u[0], u[1]\n",
    "    usqr = ne.evaluate(\"3.0 / 2.0 * (u0**2 + u1**2)\")\n",
    "\n",
    "    #usqr = 3.0 / 2.0 * (u[0]**2 + u[1]**2)    \n",
    "        \n",
    "    feq = (ne.evaluate(\"rho * (1.0 + cu + 0.5 * (cu ** 2) - usqr)\").T * t).T\n",
    "\n",
    "    #feq = zeros((q,nx,ny))\n",
    "    #for i in range(q):        \n",
    "    #    feq[i,:,:] = rho * t[i] * (1.0 + cu[i] + 0.5 * (cu[i] ** 2) - usqr)\n",
    "\n",
    "    # Slower!    \n",
    "    #feq = einsum('jk,i,ijk->ijk', rho, t, (1.0 + cu + 0.5 * (cu ** 2) - usqr))\n",
    "    \n",
    "    return feq\n",
    "\n",
    "###### Setup: cylindrical obstacle and velocity inlet with perturbation ########\n",
    "obstacle = np.fromfunction(lambda x,y: (x-cx)**2+(y-cy)**2<r**2, (nx,ny))\n",
    "vel = np.fromfunction(lambda d,x,y: (1-d)*uLB*(1.0+1e-4*np.sin(y/ly*2*np.pi)),(2,nx,ny))\n",
    "feq = equilibrium(np.ones((nx,ny)),vel); fin = feq.copy()\n",
    "                \n",
    "def solve(total_iter):\n",
    "    ###### Main time loop ##########################################################\n",
    "    for time in xrange(total_iter):\n",
    "        \n",
    "        fin[i1,-1,:] = fin[i1,-2,:] # Right wall: outflow condition.\n",
    "        \n",
    "        rho = sumpop(fin)           # Calculate macroscopic density and velocity.\n",
    "        \n",
    "        # Slow Original\n",
    "        #u = dot(c.transpose(), fin.transpose((1,0,2)))/rho\n",
    "        \n",
    "        # No multi-thread\n",
    "        #u = einsum('ij,ikl', c, fin) / rho   \n",
    "        \n",
    "        # Multi-thread\n",
    "        u = np.tensordot(c, fin, axes=([0],[0])) / rho        \n",
    "        \n",
    "        u[:,0,:] = vel[:,0,:] # Left wall: compute density from known populations.\n",
    "        rho[0,:] = 1.0 / (1.0 - u[0,0,:]) * (sumpop(fin[i2,0,:]) + 2.0 * sumpop(fin[i1,0,:]))\n",
    "\n",
    "        feq = equilibrium(rho,u) # Left wall: Zou/He boundary condition.\n",
    "        fin[i3,0,:] = fin[i1,0,:] + feq[i3,0,:] - fin[i1,0,:]\n",
    "        \n",
    "        # Collision step\n",
    "        #fout = fin - omega * (fin - feq)  \n",
    "        fout = ne.evaluate(\"fin - omega * (fin - feq)\")\n",
    "\n",
    "        for i in range(q): \n",
    "            fout[i, obstacle] = fin[noslip[i], obstacle]\n",
    "\n",
    "        for i in range(q): # Streaming step.\n",
    "            fin[i,:,:] = np.roll(np.roll(fout[i,:,:], c[i,0], axis=0), c[i,1], axis=1)\n",
    "        \n",
    "        if (time%100==0): # Visualization\n",
    "            plt.clf(); plt.imshow(np.sqrt(u[0]**2+u[1]**2).transpose(),cmap=cm.Reds)\n",
    "            plt.savefig(\"vel.\"+str(time/100).zfill(4)+\".png\")\n"
   ]
  },
  {
   "cell_type": "code",
   "execution_count": 2,
   "metadata": {
    "collapsed": false
   },
   "outputs": [
    {
     "name": "stdout",
     "output_type": "stream",
     "text": [
      "1 loops, best of 3: 9.65 s per loop\n"
     ]
    }
   ],
   "source": [
    "%timeit solve(200)"
   ]
  },
  {
   "cell_type": "markdown",
   "metadata": {
    "collapsed": false
   },
   "source": [
    "$$\n",
    "\\frac{\\partial \\left( \\rho c_p T \\right)}{\\partial t} = \\frac{\\partial}{\\partial x} \\left( k \\frac{\\partial T}{\\partial x} \\right) + \\frac{\\partial}{\\partial y} \\left( k \\frac{\\partial T}{\\partial y} \\right) + q\n",
    "$$\n",
    "\n",
    "$$\n",
    " \\frac{\\rho c_p T \\Delta V -  \\rho^o c^o_p T^o \\Delta V}{\\Delta t} = k_e \\frac{T_E - T_P}{\\Delta x} A_x - k_w \\frac{T_P - T_W}{\\Delta x} A_x + k_n \\frac{T_N - T_P}{\\Delta y} A_y - k_s \\frac{T_P - T_S}{\\Delta y} A_y + q \\Delta V\n",
    "$$\n",
    "\n",
    "$$\n",
    " T_P = \\frac{\\Delta t}{\\rho c_p \\Delta V} \\left( \\frac{\\rho^o c^o_p T^o_P \\Delta V}{\\Delta t} - k_e \\frac{T^o_P - T^o_E}{\\Delta x} A_x - k_w \\frac{T^o_P - T^o_W}{\\Delta x} A_x - k_n \\frac{T^o_P - T^o_N}{\\Delta y} A_y - k_s \\frac{T^o_P - T^o_S}{\\Delta y} A_y + q \\Delta V \\right)\n",
    "$$\n",
    "\n",
    "$$\n",
    " T_P = \\frac{\\Delta t}{\\rho c_p \\Delta V} \\left( \\frac{\\rho^o c^o_p T^o_P \\Delta V}{\\Delta t} - \\frac{k_e A_x}{\\Delta x} (T^o_P - T^o_E) - \\frac{k_w A_x}{\\Delta x} (T^o_P - T^o_W) - \\frac{k_n A_y}{\\Delta y} (T^o_P - T^o_N) - \\frac{k_s A_y}{\\Delta y}  (T^o_P - T^o_S) + q \\Delta V \\right)\n",
    "$$\n",
    "\n",
    "$$\n",
    "\\frac{\\rho^o c^o_p \\Delta V}{\\Delta t} - \\frac{k_e A_x}{\\Delta x} - \\frac{k_w A_x}{\\Delta x} - \\frac{k_n A_y}{\\Delta y} - \\frac{k_s A_y}{\\Delta y} > 0 \n",
    "$$\n",
    "\n",
    "$$\n",
    "\\frac{\\rho^o c^o_p \\Delta V}{\\Delta t} > 4 \\frac{k A}{\\Delta x} \n",
    "$$\n",
    "\n",
    "$$\n",
    " \\Delta t < \\frac{\\rho^o c^o_p \\Delta V \\Delta x}{4 k A} = \\frac{\\rho^o c^o_p \\Delta x^2}{4 k}\n",
    "$$"
   ]
  },
  {
   "cell_type": "code",
   "execution_count": 109,
   "metadata": {
    "collapsed": false
   },
   "outputs": [
    {
     "name": "stdout",
     "output_type": "stream",
     "text": [
      "[[ 10.52  10.94  11.38 ...,  11.38  10.94  10.52]\n",
      " [ 10.94  12.71  13.43 ...,  13.43  12.71  10.94]\n",
      " [ 11.38  13.43  14.45 ...,  14.45  13.43  11.38]\n",
      " ..., \n",
      " [ 11.38  13.43  14.45 ...,  14.45  13.43  11.38]\n",
      " [ 10.94  12.71  13.43 ...,  13.43  12.71  10.94]\n",
      " [ 10.52  10.94  11.38 ...,  11.38  10.94  10.52]]\n"
     ]
    }
   ],
   "source": [
    "import numpy as np\n",
    "import matplotlib.pyplot as plt\n",
    "from matplotlib import cm\n",
    "import numba\n",
    "import numexpr as ne\n",
    "import networkx as nx\n",
    "\n",
    "###### Flow definition #########################################################\n",
    "Lx, Ly = 10.0, 10.0\n",
    "ni, nj = 300, 300\n",
    "\n",
    "dx, dy = Lx / ni, Ly / nj\n",
    "\n",
    "Ax = dy * 1.0\n",
    "Ay = dx * 1.0\n",
    "A = Ax\n",
    "\n",
    "k = 1.0\n",
    "rho = 1.0\n",
    "cp = 1.0\n",
    "dV = dx * dy * 1.0\n",
    "q = 100.0\n",
    "\n",
    "# Condition for positive coefficients \n",
    "# dt < rho * c * dx^2 / 2k (for 2D)\n",
    "dt = 0.9 * rho * cp * (dx ** 2) / (4.0 * k)\n",
    "\n",
    "def to_continuous(ij):\n",
    "    i,j = ij\n",
    "    return i + j * ni\n",
    "    \n",
    "zero_I = np.zeros(nj)\n",
    "zero_J = np.zeros(ni)\n",
    "last_I = (ni-1) * np.ones(nj)\n",
    "last_J = (nj-1) * np.ones(ni)\n",
    "I = np.arange(0,ni)\n",
    "J = np.arange(0,nj)\n",
    "\n",
    "left  =  np.array([zero_I,J]).astype(int).T\n",
    "right =  np.array([last_I,J]).astype(int).T\n",
    "north =  np.array([I,last_J]).astype(int).T\n",
    "south =  np.array([I,zero_J]).astype(int).T\n",
    "\n",
    "graph = nx.grid_2d_graph(ni,nj)\n",
    "\n",
    "subgraph_left  = graph.subgraph(map(tuple,  left))\n",
    "subgraph_right = graph.subgraph(map(tuple, right))\n",
    "subgraph_north = graph.subgraph(map(tuple, north))\n",
    "subgraph_south = graph.subgraph(map(tuple, south))\n",
    "\n",
    "T_left  = 10.0\n",
    "T_right = 10.0\n",
    "T_north = 10.0\n",
    "T_south = 10.0\n",
    "\n",
    "T     = 15.0 * np.ones((ni, nj))\n",
    "T_old = np.copy(T)\n",
    "\n",
    "edges = np.array([e for e in graph.edges_iter()])\n",
    "\n",
    "e0 = edges[:,0]\n",
    "e1 = edges[:,1]\n",
    "e0 = [e0[:,0],e0[:,1]]\n",
    "e1 = [e1[:,0],e1[:,1]]\n",
    "\n",
    "nodes = np.array([n for n in graph.nodes_iter()])\n",
    "nodes = [nodes[:,0], nodes[:,1]]\n",
    "\n",
    "nodes_left  = np.array([n for n in subgraph_left.nodes_iter() ])\n",
    "nodes_left = [nodes_left[:,0], nodes_left[:,1]]\n",
    "\n",
    "nodes_right = np.array([n for n in subgraph_right.nodes_iter()])\n",
    "nodes_right = [nodes_right[:,0], nodes_right[:,1]]\n",
    "\n",
    "nodes_north = np.array([n for n in subgraph_north.nodes_iter()])\n",
    "nodes_north = [nodes_north[:,0], nodes_north[:,1]]\n",
    "\n",
    "nodes_south = np.array([n for n in subgraph_south.nodes_iter()])\n",
    "nodes_south = [nodes_south[:,0], nodes_south[:,1]]\n",
    "\n",
    "def solve(total_iter, sources=[]):\n",
    "    ###### Main time loop ##########################################################\n",
    "    for time in xrange(total_iter):\n",
    "        T[:] = 0.0\n",
    "        \n",
    "        # apply boundary conditions\n",
    "        T[nodes_left ] += -2.0 * k * Ax / dx * (T_old[nodes_left ] - T_left )\n",
    "        T[nodes_right] += -2.0 * k * Ax / dx * (T_old[nodes_right] - T_right)\n",
    "        T[nodes_north] += -2.0 * k * Ay / dy * (T_old[nodes_north] - T_north)\n",
    "        T[nodes_south] += -2.0 * k * Ay / dy * (T_old[nodes_south] - T_south)        \n",
    "\n",
    "        flux = k * A / dx * (T_old[e0] - T_old[e1])  \n",
    "        np.add.at(T, e0, -flux)\n",
    "        np.add.at(T, e1,  flux)\n",
    "        \n",
    "        T[sources] += q * dV      \n",
    "        \n",
    "        T[nodes] += rho * cp * dV * T_old[nodes] / dt\n",
    "        T[nodes] *= dt / (rho * cp * dV) \n",
    "      \n",
    "        T_old[:] = T[:]  \n",
    "        \n",
    "        if (time%100==0): # Visualization\n",
    "            plt.clf(); plt.imshow(T.transpose(),cmap=cm.jet, vmin=10.0, vmax=15.0)\n",
    "            plt.savefig(\"temperature.\"+str(time/100).zfill(4)+\".png\")\n",
    "        \n",
    "    return T\n",
    "T = solve(4)\n",
    "np.set_printoptions(precision=2) \n",
    "print T.T"
   ]
  },
  {
   "cell_type": "code",
   "execution_count": 96,
   "metadata": {
    "collapsed": false
   },
   "outputs": [
    {
     "data": {
      "text/plain": [
       "15.0"
      ]
     },
     "execution_count": 96,
     "metadata": {},
     "output_type": "execute_result"
    }
   ],
   "source": []
  },
  {
   "cell_type": "code",
   "execution_count": null,
   "metadata": {
    "collapsed": false
   },
   "outputs": [],
   "source": []
  },
  {
   "cell_type": "code",
   "execution_count": null,
   "metadata": {
    "collapsed": false
   },
   "outputs": [],
   "source": []
  },
  {
   "cell_type": "code",
   "execution_count": null,
   "metadata": {
    "collapsed": false
   },
   "outputs": [],
   "source": []
  },
  {
   "cell_type": "code",
   "execution_count": null,
   "metadata": {
    "collapsed": false
   },
   "outputs": [],
   "source": []
  },
  {
   "cell_type": "code",
   "execution_count": null,
   "metadata": {
    "collapsed": false
   },
   "outputs": [],
   "source": []
  }
 ],
 "metadata": {
  "kernelspec": {
   "display_name": "Python 2",
   "language": "python",
   "name": "python2"
  },
  "language_info": {
   "codemirror_mode": {
    "name": "ipython",
    "version": 2
   },
   "file_extension": ".py",
   "mimetype": "text/x-python",
   "name": "python",
   "nbconvert_exporter": "python",
   "pygments_lexer": "ipython2",
   "version": "2.7.10"
  }
 },
 "nbformat": 4,
 "nbformat_minor": 0
}
