{
 "cells": [
  {
   "cell_type": "code",
   "execution_count": 1,
   "metadata": {
    "collapsed": false
   },
   "outputs": [],
   "source": [
    "from numpy import *\n",
    "from numpy.linalg import *\n",
    "import matplotlib.pyplot as plt\n",
    "from matplotlib import cm\n",
    "from numba import jit\n",
    "\n",
    "###### Flow definition #########################################################\n",
    "#maxIter = 200000 # Total number of time iterations.\n",
    "maxIter = 200 # Total number of time iterations.\n",
    "Re      = 220.0  # Reynolds number.\n",
    "nx = 520; ny = 180; ly=ny-1.0; q = 9 # Lattice dimensions and populations.\n",
    "cx = nx/4; cy=ny/2; r=ny/9;          # Coordinates of the cylinder.\n",
    "uLB     = 0.04                       # Velocity in lattice units.\n",
    "nulb    = uLB*r/Re; omega = 1.0 / (3.*nulb+0.5); # Relaxation parameter.\n",
    "\n",
    "###### Lattice Constants #######################################################\n",
    "c = array([(x,y) for x in [0,-1,1] for y in [0,-1,1]]) # Lattice velocities.\n",
    "t = 1.0/36.0 * ones(q)                                   # Lattice weights.\n",
    "\n",
    "t[asarray([norm(ci)<1.1 for ci in c])] = 1.0 / 9.0\n",
    "t[0] = 4.0 / 9.0\n",
    "\n",
    "noslip = [c.tolist().index((-c[i]).tolist()) for i in range(q)] \n",
    "i1 = arange(q)[asarray([ci[0]<0  for ci in c])] # Unknown on right wall.\n",
    "i2 = arange(q)[asarray([ci[0]==0 for ci in c])] # Vertical middle.\n",
    "i3 = arange(q)[asarray([ci[0]>0  for ci in c])] # Unknown on left wall.\n",
    "\n",
    "###### Function Definitions ####################################################\n",
    "sumpop = lambda fin: sum(fin,axis=0) # Helper function for density computation.\n",
    "\n",
    "@jit\n",
    "def equilibrium(rho, u):              # Equilibrium distribution function.    \n",
    "    # Slow\n",
    "    #cu = 3.0 * dot(c, u.transpose(1,0,2))\n",
    "    # No multi-thread\n",
    "    #cu = 3.0 * einsum('ij,jkl', c, u)\n",
    "    # Multi-thread\n",
    "    cu = 3.0 * tensordot(c, u, axes=([1],[0]))\n",
    "    \n",
    "    usqr = 3.0 / 2.0 * (u[0]**2 + u[1]**2)    \n",
    "    \n",
    "    feq = zeros((q,nx,ny))\n",
    "    for i in range(q): \n",
    "        feq[i,:,:] = rho * t[i] * (1. + cu[i] + 0.5 * (cu[i] ** 2) - usqr)\n",
    "\n",
    "# Slower!\n",
    "#    expr = (1. + cu + 0.5 * (cu ** 2) - usqr)    \n",
    "#    feq = einsum('i,ijk->ijk', t, rho * expr)\n",
    "    \n",
    "    return feq\n",
    "\n",
    "###### Setup: cylindrical obstacle and velocity inlet with perturbation ########\n",
    "obstacle = fromfunction(lambda x,y: (x-cx)**2+(y-cy)**2<r**2, (nx,ny))\n",
    "vel = fromfunction(lambda d,x,y: (1-d)*uLB*(1.0+1e-4*sin(y/ly*2*pi)),(2,nx,ny))\n",
    "feq = equilibrium(ones((nx,ny)),vel); fin = feq.copy()\n",
    "                \n",
    "def solve(total_iter):\n",
    "    ###### Main time loop ##########################################################\n",
    "    for time in range(total_iter):\n",
    "        \n",
    "        fin[i1,-1,:] = fin[i1,-2,:] # Right wall: outflow condition.\n",
    "        \n",
    "        rho = sumpop(fin)           # Calculate macroscopic density and velocity.\n",
    "        \n",
    "        # Slow\n",
    "        #u = dot(c.transpose(), fin.transpose((1,0,2)))/rho\n",
    "        \n",
    "        # Multi-thread\n",
    "        u = tensordot(c, fin, axes=([0],[0])) / rho\n",
    "        \n",
    "        # No multi-thread\n",
    "        #u = einsum('ij,ikl', c, fin) / rho   \n",
    "        \n",
    "        u[:,0,:] = vel[:,0,:] # Left wall: compute density from known populations.\n",
    "        rho[0,:] = 1.0 / (1.0 - u[0,0,:]) * (sumpop(fin[i2,0,:]) + 2.0 * sumpop(fin[i1,0,:]))\n",
    "\n",
    "        feq = equilibrium(rho,u) # Left wall: Zou/He boundary condition.\n",
    "        fin[i3,0,:] = fin[i1,0,:] + feq[i3,0,:] - fin[i1,0,:]\n",
    "        fout = fin - omega * (fin - feq)  # Collision step.\n",
    "\n",
    "        for i in range(q): \n",
    "            fout[i, obstacle] = fin[noslip[i], obstacle]\n",
    "\n",
    "        for i in range(q): # Streaming step.\n",
    "            fin[i,:,:] = roll(roll(fout[i,:,:], c[i,0], axis=0), c[i,1], axis=1)\n",
    "        \n",
    "        if (time%100==0): # Visualization\n",
    "            plt.clf(); plt.imshow(sqrt(u[0]**2+u[1]**2).transpose(),cmap=cm.Reds)\n",
    "            plt.savefig(\"vel.\"+str(time/100).zfill(4)+\".png\")\n",
    "            print \"Saving time \", time   "
   ]
  },
  {
   "cell_type": "code",
   "execution_count": 2,
   "metadata": {
    "collapsed": false
   },
   "outputs": [
    {
     "name": "stdout",
     "output_type": "stream",
     "text": [
      "Saving time  0\n"
     ]
    }
   ],
   "source": [
    "solve(2)"
   ]
  },
  {
   "cell_type": "code",
   "execution_count": null,
   "metadata": {
    "collapsed": false
   },
   "outputs": [],
   "source": []
  },
  {
   "cell_type": "code",
   "execution_count": null,
   "metadata": {
    "collapsed": false
   },
   "outputs": [],
   "source": []
  },
  {
   "cell_type": "code",
   "execution_count": null,
   "metadata": {
    "collapsed": true
   },
   "outputs": [],
   "source": []
  }
 ],
 "metadata": {
  "kernelspec": {
   "display_name": "Python 2",
   "language": "python",
   "name": "python2"
  },
  "language_info": {
   "codemirror_mode": {
    "name": "ipython",
    "version": 2
   },
   "file_extension": ".py",
   "mimetype": "text/x-python",
   "name": "python",
   "nbconvert_exporter": "python",
   "pygments_lexer": "ipython2",
   "version": "2.7.9"
  }
 },
 "nbformat": 4,
 "nbformat_minor": 0
}
