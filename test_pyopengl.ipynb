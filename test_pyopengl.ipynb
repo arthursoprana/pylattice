{
 "cells": [
  {
   "cell_type": "code",
   "execution_count": null,
   "metadata": {
    "collapsed": true
   },
   "outputs": [],
   "source": [
    "from OpenGL.GLUT import *\n",
    "from OpenGL.GLU import *\n",
    "from OpenGL.GL import *\n",
    "import sys\n",
    "\n",
    "name = 'ball_glut'\n",
    "\n",
    "def main():\n",
    "    glutInit(sys.argv)\n",
    "    glutInitDisplayMode(GLUT_DOUBLE | GLUT_RGB | GLUT_DEPTH)\n",
    "    glutInitWindowSize(400,400)\n",
    "    glutCreateWindow(name)\n",
    "\n",
    "    glClearColor(0.,0.,0.,1.)\n",
    "    glShadeModel(GL_SMOOTH)\n",
    "    glEnable(GL_CULL_FACE)\n",
    "    glEnable(GL_DEPTH_TEST)\n",
    "    glEnable(GL_LIGHTING)\n",
    "    lightZeroPosition = [10.,4.,10.,1.]\n",
    "    lightZeroColor = [0.8,1.0,0.8,1.0] #green tinged\n",
    "    glLightfv(GL_LIGHT0, GL_POSITION, lightZeroPosition)\n",
    "    glLightfv(GL_LIGHT0, GL_DIFFUSE, lightZeroColor)\n",
    "    glLightf(GL_LIGHT0, GL_CONSTANT_ATTENUATION, 0.1)\n",
    "    glLightf(GL_LIGHT0, GL_LINEAR_ATTENUATION, 0.05)\n",
    "    glEnable(GL_LIGHT0)\n",
    "    glutDisplayFunc(display)\n",
    "    glMatrixMode(GL_PROJECTION)\n",
    "    gluPerspective(40.,1.,1.,40.)\n",
    "    glMatrixMode(GL_MODELVIEW)\n",
    "    gluLookAt(0,0,10,\n",
    "              0,0,0,\n",
    "              0,1,0)\n",
    "    glPushMatrix()\n",
    "    glutMainLoop()\n",
    "    return\n",
    "\n",
    "def display():\n",
    "    glClear(GL_COLOR_BUFFER_BIT|GL_DEPTH_BUFFER_BIT)\n",
    "    glPushMatrix()\n",
    "    color = [1.0,0.,0.,1.]\n",
    "    glMaterialfv(GL_FRONT,GL_DIFFUSE,color)\n",
    "    glutSolidSphere(2,20,20)\n",
    "    glPopMatrix()\n",
    "    glutSwapBuffers()\n",
    "    return\n",
    "\n",
    "if __name__ == '__main__': main()"
   ]
  },
  {
   "cell_type": "code",
   "execution_count": null,
   "metadata": {
    "collapsed": true
   },
   "outputs": [],
   "source": []
  }
 ],
 "metadata": {
  "kernelspec": {
   "display_name": "Python 2",
   "language": "python",
   "name": "python2"
  },
  "language_info": {
   "codemirror_mode": {
    "name": "ipython",
    "version": 2
   },
   "file_extension": ".py",
   "mimetype": "text/x-python",
   "name": "python",
   "nbconvert_exporter": "python",
   "pygments_lexer": "ipython2",
   "version": "2.7.10"
  }
 },
 "nbformat": 4,
 "nbformat_minor": 0
}
